{
 "cells": [
  {
   "cell_type": "code",
   "execution_count": 1,
   "metadata": {},
   "outputs": [],
   "source": [
    "%load_ext sql\n",
    "%sql duckdb:///:memory:\n",
    "%config SqlMagic.feedback = False\n",
    "%config SqlMagic.displaycon = False"
   ]
  },
  {
   "attachments": {},
   "cell_type": "markdown",
   "metadata": {},
   "source": [
    "Load CSV file into a table in memory"
   ]
  },
  {
   "cell_type": "code",
   "execution_count": 2,
   "metadata": {
    "vscode": {
     "languageId": "sql"
    }
   },
   "outputs": [
    {
     "data": {
      "text/html": [
       "<table>\n",
       "    <thead>\n",
       "        <tr>\n",
       "            <th>Count</th>\n",
       "        </tr>\n",
       "    </thead>\n",
       "    <tbody>\n",
       "        <tr>\n",
       "            <td>10000</td>\n",
       "        </tr>\n",
       "    </tbody>\n",
       "</table>"
      ],
      "text/plain": [
       "[(10000,)]"
      ]
     },
     "execution_count": 2,
     "metadata": {},
     "output_type": "execute_result"
    }
   ],
   "source": [
    "%sql CREATE TABLE popular_movies AS SELECT * FROM 'popular_10000_movies_tmdb.csv'"
   ]
  },
  {
   "attachments": {},
   "cell_type": "markdown",
   "metadata": {},
   "source": [
    "Get a quick look at some interesting columns"
   ]
  },
  {
   "cell_type": "code",
   "execution_count": 6,
   "metadata": {
    "vscode": {
     "languageId": "sql"
    }
   },
   "outputs": [
    {
     "data": {
      "text/html": [
       "<table>\n",
       "    <thead>\n",
       "        <tr>\n",
       "            <th>title</th>\n",
       "            <th>vote_average</th>\n",
       "            <th>popularity</th>\n",
       "            <th>budget</th>\n",
       "            <th>revenue</th>\n",
       "            <th>runtime</th>\n",
       "        </tr>\n",
       "    </thead>\n",
       "    <tbody>\n",
       "        <tr>\n",
       "            <td>The Pope's Exorcist</td>\n",
       "            <td>7.4</td>\n",
       "            <td>5089.969</td>\n",
       "            <td>18000000</td>\n",
       "            <td>65675816</td>\n",
       "            <td>103</td>\n",
       "        </tr>\n",
       "        <tr>\n",
       "            <td>Ant-Man and the Wasp: Quantumania</td>\n",
       "            <td>6.6</td>\n",
       "            <td>4665.438</td>\n",
       "            <td>200000000</td>\n",
       "            <td>464566092</td>\n",
       "            <td>125</td>\n",
       "        </tr>\n",
       "        <tr>\n",
       "            <td>The Super Mario Bros. Movie</td>\n",
       "            <td>7.5</td>\n",
       "            <td>3935.55</td>\n",
       "            <td>100000000</td>\n",
       "            <td>1121048165</td>\n",
       "            <td>92</td>\n",
       "        </tr>\n",
       "        <tr>\n",
       "            <td>Ghosted</td>\n",
       "            <td>7.2</td>\n",
       "            <td>2791.532</td>\n",
       "            <td>0</td>\n",
       "            <td>0</td>\n",
       "            <td>120</td>\n",
       "        </tr>\n",
       "        <tr>\n",
       "            <td>Shazam! Fury of the Gods</td>\n",
       "            <td>6.8</td>\n",
       "            <td>2702.593</td>\n",
       "            <td>125000000</td>\n",
       "            <td>133437105</td>\n",
       "            <td>130</td>\n",
       "        </tr>\n",
       "        <tr>\n",
       "            <td>Avatar: The Way of Water</td>\n",
       "            <td>7.7</td>\n",
       "            <td>2280.912</td>\n",
       "            <td>460000000</td>\n",
       "            <td>2319331580</td>\n",
       "            <td>192</td>\n",
       "        </tr>\n",
       "        <tr>\n",
       "            <td>Guardians of the Galaxy Volume 3</td>\n",
       "            <td>8.3</td>\n",
       "            <td>2520.308</td>\n",
       "            <td>250000000</td>\n",
       "            <td>289312702</td>\n",
       "            <td>150</td>\n",
       "        </tr>\n",
       "        <tr>\n",
       "            <td>Scream VI</td>\n",
       "            <td>7.3</td>\n",
       "            <td>1862.283</td>\n",
       "            <td>35000000</td>\n",
       "            <td>168541093</td>\n",
       "            <td>123</td>\n",
       "        </tr>\n",
       "        <tr>\n",
       "            <td>Creed III</td>\n",
       "            <td>7.3</td>\n",
       "            <td>1894.044</td>\n",
       "            <td>75000000</td>\n",
       "            <td>269000000</td>\n",
       "            <td>116</td>\n",
       "        </tr>\n",
       "        <tr>\n",
       "            <td>Dungeons & Dragons: Honor Among Thieves</td>\n",
       "            <td>7.5</td>\n",
       "            <td>1655.052</td>\n",
       "            <td>151000000</td>\n",
       "            <td>202484920</td>\n",
       "            <td>134</td>\n",
       "        </tr>\n",
       "    </tbody>\n",
       "</table>"
      ],
      "text/plain": [
       "[(\"The Pope's Exorcist\", 7.4, 5089.969, 18000000, 65675816, 103),\n",
       " ('Ant-Man and the Wasp: Quantumania', 6.6, 4665.438, 200000000, 464566092, 125),\n",
       " ('The Super Mario Bros. Movie', 7.5, 3935.55, 100000000, 1121048165, 92),\n",
       " ('Ghosted', 7.2, 2791.532, 0, 0, 120),\n",
       " ('Shazam! Fury of the Gods', 6.8, 2702.593, 125000000, 133437105, 130),\n",
       " ('Avatar: The Way of Water', 7.7, 2280.912, 460000000, 2319331580, 192),\n",
       " ('Guardians of the Galaxy Volume 3', 8.3, 2520.308, 250000000, 289312702, 150),\n",
       " ('Scream VI', 7.3, 1862.283, 35000000, 168541093, 123),\n",
       " ('Creed III', 7.3, 1894.044, 75000000, 269000000, 116),\n",
       " ('Dungeons & Dragons: Honor Among Thieves', 7.5, 1655.052, 151000000, 202484920, 134)]"
      ]
     },
     "execution_count": 6,
     "metadata": {},
     "output_type": "execute_result"
    }
   ],
   "source": [
    "%%sql \n",
    "SELECT title, vote_average, popularity, budget, revenue, runtime\n",
    "FROM popular_movies LIMIT 10"
   ]
  },
  {
   "attachments": {},
   "cell_type": "markdown",
   "metadata": {},
   "source": [
    "Look at the top 10 most popular movies"
   ]
  },
  {
   "cell_type": "code",
   "execution_count": 32,
   "metadata": {
    "vscode": {
     "languageId": "sql"
    }
   },
   "outputs": [
    {
     "data": {
      "text/html": [
       "<table>\n",
       "    <thead>\n",
       "        <tr>\n",
       "            <th>title</th>\n",
       "            <th>vote_average</th>\n",
       "            <th>vote_count</th>\n",
       "            <th>popularity</th>\n",
       "            <th>profit_in_millions</th>\n",
       "        </tr>\n",
       "    </thead>\n",
       "    <tbody>\n",
       "        <tr>\n",
       "            <td>The Godfather</td>\n",
       "            <td>8.7</td>\n",
       "            <td>17865</td>\n",
       "            <td>113.216</td>\n",
       "            <td>239</td>\n",
       "        </tr>\n",
       "        <tr>\n",
       "            <td>The Shawshank Redemption</td>\n",
       "            <td>8.7</td>\n",
       "            <td>23715</td>\n",
       "            <td>84.139</td>\n",
       "            <td>3</td>\n",
       "        </tr>\n",
       "        <tr>\n",
       "            <td>Schindler's List</td>\n",
       "            <td>8.6</td>\n",
       "            <td>14028</td>\n",
       "            <td>57.91</td>\n",
       "            <td>299</td>\n",
       "        </tr>\n",
       "        <tr>\n",
       "            <td>The Godfather Part II</td>\n",
       "            <td>8.6</td>\n",
       "            <td>10802</td>\n",
       "            <td>55.942</td>\n",
       "            <td>89</td>\n",
       "        </tr>\n",
       "        <tr>\n",
       "            <td>Spirited Away</td>\n",
       "            <td>8.5</td>\n",
       "            <td>14246</td>\n",
       "            <td>74.783</td>\n",
       "            <td>255</td>\n",
       "        </tr>\n",
       "        <tr>\n",
       "            <td>The Dark Knight</td>\n",
       "            <td>8.5</td>\n",
       "            <td>29634</td>\n",
       "            <td>81.582</td>\n",
       "            <td>819</td>\n",
       "        </tr>\n",
       "        <tr>\n",
       "            <td>The Green Mile</td>\n",
       "            <td>8.5</td>\n",
       "            <td>15357</td>\n",
       "            <td>67.506</td>\n",
       "            <td>226</td>\n",
       "        </tr>\n",
       "        <tr>\n",
       "            <td>The Lord of the Rings: The Return of the King</td>\n",
       "            <td>8.5</td>\n",
       "            <td>21539</td>\n",
       "            <td>65.571</td>\n",
       "            <td>1024</td>\n",
       "        </tr>\n",
       "        <tr>\n",
       "            <td>Pulp Fiction</td>\n",
       "            <td>8.5</td>\n",
       "            <td>25104</td>\n",
       "            <td>59.938</td>\n",
       "            <td>206</td>\n",
       "        </tr>\n",
       "        <tr>\n",
       "            <td>Parasite</td>\n",
       "            <td>8.5</td>\n",
       "            <td>15673</td>\n",
       "            <td>70.397</td>\n",
       "            <td>246</td>\n",
       "        </tr>\n",
       "    </tbody>\n",
       "</table>"
      ],
      "text/plain": [
       "[('The Godfather', 8.7, 17865, 113.216, 239),\n",
       " ('The Shawshank Redemption', 8.7, 23715, 84.139, 3),\n",
       " (\"Schindler's List\", 8.6, 14028, 57.91, 299),\n",
       " ('The Godfather Part II', 8.6, 10802, 55.942, 89),\n",
       " ('Spirited Away', 8.5, 14246, 74.783, 255),\n",
       " ('The Dark Knight', 8.5, 29634, 81.582, 819),\n",
       " ('The Green Mile', 8.5, 15357, 67.506, 226),\n",
       " ('The Lord of the Rings: The Return of the King', 8.5, 21539, 65.571, 1024),\n",
       " ('Pulp Fiction', 8.5, 25104, 59.938, 206),\n",
       " ('Parasite', 8.5, 15673, 70.397, 246)]"
      ]
     },
     "execution_count": 32,
     "metadata": {},
     "output_type": "execute_result"
    }
   ],
   "source": [
    "%%sql\n",
    "\n",
    "SELECT title, vote_average, vote_count, popularity, (revenue - budget) / 1000000 AS profit_in_millions\n",
    "FROM popular_movies\n",
    "WHERE vote_count > 10000\n",
    "ORDER BY vote_average DESC\n",
    "LIMIT 10"
   ]
  },
  {
   "attachments": {},
   "cell_type": "markdown",
   "metadata": {},
   "source": [
    "Top 10 movies with bad ratings that turn a profit"
   ]
  },
  {
   "cell_type": "code",
   "execution_count": 42,
   "metadata": {
    "vscode": {
     "languageId": "sql"
    }
   },
   "outputs": [
    {
     "data": {
      "text/html": [
       "<table>\n",
       "    <thead>\n",
       "        <tr>\n",
       "            <th>title</th>\n",
       "            <th>vote_average</th>\n",
       "            <th>profit_in_millions</th>\n",
       "        </tr>\n",
       "    </thead>\n",
       "    <tbody>\n",
       "        <tr>\n",
       "            <td>Transformers: Age of Extinction</td>\n",
       "            <td>5.9</td>\n",
       "            <td>894</td>\n",
       "        </tr>\n",
       "        <tr>\n",
       "            <td>Full River Red</td>\n",
       "            <td>5.8</td>\n",
       "            <td>673</td>\n",
       "        </tr>\n",
       "        <tr>\n",
       "            <td>Batman v Superman: Dawn of Justice</td>\n",
       "            <td>5.9</td>\n",
       "            <td>623</td>\n",
       "        </tr>\n",
       "        <tr>\n",
       "            <td>2012</td>\n",
       "            <td>5.8</td>\n",
       "            <td>591</td>\n",
       "        </tr>\n",
       "        <tr>\n",
       "            <td>Suicide Squad</td>\n",
       "            <td>5.9</td>\n",
       "            <td>571</td>\n",
       "        </tr>\n",
       "        <tr>\n",
       "            <td>Fifty Shades of Grey</td>\n",
       "            <td>5.9</td>\n",
       "            <td>531</td>\n",
       "        </tr>\n",
       "        <tr>\n",
       "            <td>The Smurfs</td>\n",
       "            <td>5.8</td>\n",
       "            <td>453</td>\n",
       "        </tr>\n",
       "        <tr>\n",
       "            <td>Clash of the Titans</td>\n",
       "            <td>5.9</td>\n",
       "            <td>368</td>\n",
       "        </tr>\n",
       "        <tr>\n",
       "            <td>Alvin and the Chipmunks: The Squeakquel</td>\n",
       "            <td>5.6</td>\n",
       "            <td>368</td>\n",
       "        </tr>\n",
       "        <tr>\n",
       "            <td>Teenage Mutant Ninja Turtles</td>\n",
       "            <td>5.9</td>\n",
       "            <td>360</td>\n",
       "        </tr>\n",
       "    </tbody>\n",
       "</table>"
      ],
      "text/plain": [
       "[('Transformers: Age of Extinction', 5.9, 894),\n",
       " ('Full River Red', 5.8, 673),\n",
       " ('Batman v Superman: Dawn of Justice', 5.9, 623),\n",
       " ('2012', 5.8, 591),\n",
       " ('Suicide Squad', 5.9, 571),\n",
       " ('Fifty Shades of Grey', 5.9, 531),\n",
       " ('The Smurfs', 5.8, 453),\n",
       " ('Clash of the Titans', 5.9, 368),\n",
       " ('Alvin and the Chipmunks: The Squeakquel', 5.6, 368),\n",
       " ('Teenage Mutant Ninja Turtles', 5.9, 360)]"
      ]
     },
     "execution_count": 42,
     "metadata": {},
     "output_type": "execute_result"
    }
   ],
   "source": [
    "%%sql\n",
    "\n",
    "SELECT \n",
    "    title, \n",
    "    vote_average,\n",
    "    (revenue - budget) / 1000000 AS profit_in_millions\n",
    "FROM popular_movies\n",
    "WHERE \n",
    "    revenue - budget > 0 AND\n",
    "    vote_average < 6\n",
    "ORDER BY profit_in_millions DESC\n",
    "LIMIT 10"
   ]
  },
  {
   "attachments": {},
   "cell_type": "markdown",
   "metadata": {},
   "source": [
    "Genres that make the most money"
   ]
  },
  {
   "cell_type": "code",
   "execution_count": 44,
   "metadata": {
    "vscode": {
     "languageId": "sql"
    }
   },
   "outputs": [
    {
     "data": {
      "text/html": [
       "<table>\n",
       "    <thead>\n",
       "        <tr>\n",
       "            <th>genres</th>\n",
       "            <th>total_profit</th>\n",
       "        </tr>\n",
       "    </thead>\n",
       "    <tbody>\n",
       "        <tr>\n",
       "            <td>['Action', 'Adventure', 'Science Fiction']</td>\n",
       "            <td>15795068792</td>\n",
       "        </tr>\n",
       "        <tr>\n",
       "            <td>['Comedy']</td>\n",
       "            <td>11996953283</td>\n",
       "        </tr>\n",
       "        <tr>\n",
       "            <td>['Adventure', 'Action', 'Science Fiction']</td>\n",
       "            <td>11762937055</td>\n",
       "        </tr>\n",
       "        <tr>\n",
       "            <td>['Comedy', 'Romance']</td>\n",
       "            <td>10850859850</td>\n",
       "        </tr>\n",
       "        <tr>\n",
       "            <td>['Drama']</td>\n",
       "            <td>9367367836</td>\n",
       "        </tr>\n",
       "        <tr>\n",
       "            <td>['Action', 'Adventure', 'Fantasy']</td>\n",
       "            <td>8580048698</td>\n",
       "        </tr>\n",
       "        <tr>\n",
       "            <td>['Drama', 'Romance']</td>\n",
       "            <td>7738721098</td>\n",
       "        </tr>\n",
       "        <tr>\n",
       "            <td>['Adventure', 'Fantasy', 'Action']</td>\n",
       "            <td>6264710538</td>\n",
       "        </tr>\n",
       "        <tr>\n",
       "            <td>['Comedy', 'Drama', 'Romance']</td>\n",
       "            <td>5237230258</td>\n",
       "        </tr>\n",
       "        <tr>\n",
       "            <td>['Adventure', 'Action', 'Thriller']</td>\n",
       "            <td>4969060289</td>\n",
       "        </tr>\n",
       "    </tbody>\n",
       "</table>"
      ],
      "text/plain": [
       "[(\"['Action', 'Adventure', 'Science Fiction']\", 15795068792),\n",
       " (\"['Comedy']\", 11996953283),\n",
       " (\"['Adventure', 'Action', 'Science Fiction']\", 11762937055),\n",
       " (\"['Comedy', 'Romance']\", 10850859850),\n",
       " (\"['Drama']\", 9367367836),\n",
       " (\"['Action', 'Adventure', 'Fantasy']\", 8580048698),\n",
       " (\"['Drama', 'Romance']\", 7738721098),\n",
       " (\"['Adventure', 'Fantasy', 'Action']\", 6264710538),\n",
       " (\"['Comedy', 'Drama', 'Romance']\", 5237230258),\n",
       " (\"['Adventure', 'Action', 'Thriller']\", 4969060289)]"
      ]
     },
     "execution_count": 44,
     "metadata": {},
     "output_type": "execute_result"
    }
   ],
   "source": [
    "%%sql\n",
    "\n",
    "SELECT \n",
    "    genres,\n",
    "    SUM(revenue - budget) AS total_profit\n",
    "FROM popular_movies\n",
    "GROUP BY genres\n",
    "HAVING SUM(revenue - budget) > 0\n",
    "ORDER BY total_profit DESC\n",
    "LIMIT 10\n"
   ]
  },
  {
   "cell_type": "code",
   "execution_count": null,
   "metadata": {
    "vscode": {
     "languageId": "sql"
    }
   },
   "outputs": [],
   "source": []
  }
 ],
 "metadata": {
  "kernelspec": {
   "display_name": "venv",
   "language": "python",
   "name": "python3"
  },
  "language_info": {
   "codemirror_mode": {
    "name": "ipython",
    "version": 3
   },
   "file_extension": ".py",
   "mimetype": "text/x-python",
   "name": "python",
   "nbconvert_exporter": "python",
   "pygments_lexer": "ipython3",
   "version": "3.11.2"
  },
  "orig_nbformat": 4
 },
 "nbformat": 4,
 "nbformat_minor": 2
}
